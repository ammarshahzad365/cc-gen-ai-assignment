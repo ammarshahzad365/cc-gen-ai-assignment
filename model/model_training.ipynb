{
  "cells": [
    {
      "cell_type": "code",
      "id": "hEpJHxcG4Ctyqhn1ULhXyRWb",
      "metadata": {
        "tags": [],
        "id": "hEpJHxcG4Ctyqhn1ULhXyRWb"
      },
      "source": [
        "import torch\n",
        "from diffusers import StableDiffusionPipeline\n",
        "from transformers import AutoTokenizer\n",
        "from data_processing import load_jsonl_dataset, download_image, preprocess_image, tokenize_captions\n",
        "from torch.utils.data import DataLoader, Dataset\n",
        "import os\n"
      ],
      "execution_count": null,
      "outputs": []
    },
    {
      "cell_type": "code",
      "source": [
        "class ImageCaptionDataset(Dataset):\n",
        "    \"\"\"Custom Dataset for image-caption pairs.\"\"\"\n",
        "    def __init__(self, data, tokenizer, images_dir):\n",
        "        self.data = data\n",
        "        self.tokenizer = tokenizer\n",
        "        self.images_dir = images_dir\n",
        "\n",
        "    def __len__(self):\n",
        "        return len(self.data)\n",
        "\n",
        "    def __getitem__(self, idx):\n",
        "        image_url, caption = self.data[idx]\n",
        "        image_path = os.path.join(self.images_dir, f\"{idx}.jpg\")\n",
        "        if not os.path.exists(image_path):\n",
        "            download_image(image_url, image_path)\n",
        "        image = preprocess_image(image_path)\n",
        "        tokenized_caption = self.tokenizer(caption, return_tensors=\"pt\")\n",
        "        return image, tokenized_caption\n",
        "\n"
      ],
      "metadata": {
        "id": "YoOb9za3zB8F"
      },
      "id": "YoOb9za3zB8F",
      "execution_count": null,
      "outputs": []
    },
    {
      "cell_type": "code",
      "source": [
        "def fine_tune_model(data_loader, model, optimizer, num_epochs, save_path):\n",
        "    \"\"\"Fine-tunes the Stable Diffusion model.\"\"\"\n",
        "    model.train()\n",
        "    for epoch in range(num_epochs):\n",
        "        for i, (images, captions) in enumerate(data_loader):\n",
        "            optimizer.zero_grad()\n",
        "            outputs = model(pixel_values=images, input_ids=captions['input_ids'])\n",
        "            loss = outputs.loss\n",
        "            loss.backward()\n",
        "            optimizer.step()\n",
        "            if i % 10 == 0:\n",
        "                print(f\"Epoch {epoch}, Step {i}, Loss: {loss.item()}\")\n",
        "    model.save_pretrained(save_path)"
      ],
      "metadata": {
        "id": "77g_oMmTzI1i"
      },
      "id": "77g_oMmTzI1i",
      "execution_count": null,
      "outputs": []
    },
    {
      "cell_type": "code",
      "source": [
        "if __name__ == \"__main__\":\n",
        "    # Configuration\n",
        "    DATASET_PATH = \"path/to/dataset.jsonl\"\n",
        "    IMAGES_DIR = \"images\"\n",
        "    MODEL_SAVE_PATH = \"gs://your-bucket-name/fine-tuned-model\"\n",
        "    BATCH_SIZE = 4\n",
        "    NUM_EPOCHS = 5\n",
        "\n",
        "    # Load tokenizer and dataset\n",
        "    tokenizer = AutoTokenizer.from_pretrained(\"stabilityai/stable-diffusion-v1-4\")\n",
        "    data = load_jsonl_dataset(DATASET_PATH)\n",
        "    dataset = ImageCaptionDataset(data, tokenizer, IMAGES_DIR)\n",
        "    data_loader = DataLoader(dataset, batch_size=BATCH_SIZE, shuffle=True)\n",
        "\n",
        "    # Load pre-trained model\n",
        "    model = StableDiffusionPipeline.from_pretrained(\"stabilityai/stable-diffusion-v1-4\").to(\"cuda\")\n",
        "\n",
        "    # Fine-tune the model\n",
        "    optimizer = torch.optim.AdamW(model.parameters(), lr=1e-5)\n",
        "    fine_tune_model(data_loader, model, optimizer, NUM_EPOCHS, MODEL_SAVE_PATH)"
      ],
      "metadata": {
        "id": "hI3TC6TczOI1"
      },
      "id": "hI3TC6TczOI1",
      "execution_count": null,
      "outputs": []
    }
  ],
  "metadata": {
    "kernelspec": {
      "display_name": "Python 3",
      "language": "python",
      "name": "python3"
    },
    "language_info": {
      "codemirror_mode": {
        "name": "ipython",
        "version": 3
      },
      "file_extension": ".py",
      "mimetype": "text/x-python",
      "name": "python",
      "nbconvert_exporter": "python",
      "pygments_lexer": "ipython3",
      "version": "3.10.10"
    },
    "colab": {
      "provenance": [],
      "name": "ammarshahzad365 (Dec 1, 2024, 6:17:59 AM)"
    }
  },
  "nbformat": 4,
  "nbformat_minor": 5
}