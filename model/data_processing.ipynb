{
  "cells": [
    {
      "cell_type": "code",
      "id": "nvcOEOS5mRrTFQZsq1lqgICH",
      "metadata": {
        "tags": [],
        "id": "nvcOEOS5mRrTFQZsq1lqgICH"
      },
      "source": [
        "import json\n",
        "import os\n",
        "from PIL import Image\n",
        "import requests\n",
        "from transformers import AutoTokenizer"
      ],
      "execution_count": null,
      "outputs": []
    },
    {
      "cell_type": "code",
      "source": [
        "def load_jsonl_dataset(jsonl_file):\n",
        "    \"\"\"Loads a JSONL file and returns a list of image-caption pairs.\"\"\"\n",
        "    dataset = []\n",
        "    with open(jsonl_file, 'r') as file:\n",
        "        for line in file:\n",
        "            entry = json.loads(line)\n",
        "            dataset.append((entry['image_url'], entry['caption']))\n",
        "    return dataset"
      ],
      "metadata": {
        "id": "kwL9vrrZyYyz"
      },
      "id": "kwL9vrrZyYyz",
      "execution_count": null,
      "outputs": []
    },
    {
      "cell_type": "code",
      "source": [
        "def download_image(url, save_path):\n",
        "    \"\"\"Downloads an image from a URL.\"\"\"\n",
        "    response = requests.get(url, stream=True)\n",
        "    if response.status_code == 200:\n",
        "        with open(save_path, 'wb') as file:\n",
        "            for chunk in response.iter_content(1024):\n",
        "                file.write(chunk)\n",
        "    else:\n",
        "        print(f\"Failed to download {url}\")"
      ],
      "metadata": {
        "id": "YMtyLKVkyrN3"
      },
      "id": "YMtyLKVkyrN3",
      "execution_count": null,
      "outputs": []
    },
    {
      "cell_type": "code",
      "source": [
        "def preprocess_image(image_path):\n",
        "    \"\"\"Preprocesses an image to fit Stable Diffusion input.\"\"\"\n",
        "    image = Image.open(image_path).convert(\"RGB\")\n",
        "    image = image.resize((512, 512))  # Resize to 512x512\n",
        "    return image"
      ],
      "metadata": {
        "id": "h6dK20sRyuMa"
      },
      "id": "h6dK20sRyuMa",
      "execution_count": null,
      "outputs": []
    },
    {
      "cell_type": "code",
      "source": [
        "def tokenize_captions(captions, tokenizer):\n",
        "    \"\"\"Tokenizes captions using the Hugging Face tokenizer.\"\"\"\n",
        "    tokenized = tokenizer(captions, padding=True, truncation=True, return_tensors=\"pt\")\n",
        "    return tokenized"
      ],
      "metadata": {
        "id": "wVooqcntyvzA"
      },
      "id": "wVooqcntyvzA",
      "execution_count": null,
      "outputs": []
    }
  ],
  "metadata": {
    "kernelspec": {
      "display_name": "Python 3",
      "language": "python",
      "name": "python3"
    },
    "language_info": {
      "codemirror_mode": {
        "name": "ipython",
        "version": 3
      },
      "file_extension": ".py",
      "mimetype": "text/x-python",
      "name": "python",
      "nbconvert_exporter": "python",
      "pygments_lexer": "ipython3",
      "version": "3.10.10"
    },
    "colab": {
      "provenance": [],
      "name": "ammarshahzad365 (Dec 1, 2024, 6:15:19 AM)"
    }
  },
  "nbformat": 4,
  "nbformat_minor": 5
}